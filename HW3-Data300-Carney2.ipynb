{
 "cells": [
  {
   "cell_type": "code",
   "execution_count": 94,
   "id": "7fe5d8bb",
   "metadata": {},
   "outputs": [],
   "source": [
    "import pandas as pd\n",
    "import numpy as np \n",
    "import sklearn as sk\n",
    "import statsmodels.api as sm\n",
    "\n",
    "from sklearn.discriminant_analysis import LinearDiscriminantAnalysis\n",
    "from sklearn.metrics import precision_score, recall_score, accuracy_score"
   ]
  },
  {
   "cell_type": "code",
   "execution_count": 108,
   "id": "683dbd07",
   "metadata": {},
   "outputs": [],
   "source": [
    "df = pd.read_csv('/Users/liamcarney9/Downloads/loan_default_data_set.csv')"
   ]
  },
  {
   "cell_type": "code",
   "execution_count": 22,
   "id": "c24e7eb4",
   "metadata": {},
   "outputs": [],
   "source": [
    "# 1 A"
   ]
  },
  {
   "cell_type": "code",
   "execution_count": 9,
   "id": "412da5e3",
   "metadata": {},
   "outputs": [
    {
     "data": {
      "text/plain": [
       "tot_balance                           0\n",
       "avg_bal_cards                         0\n",
       "credit_age                            0\n",
       "credit_age_good_account               0\n",
       "credit_card_age                       0\n",
       "num_acc_30d_past_due_12_months        0\n",
       "num_acc_30d_past_due_6_months         0\n",
       "num_mortgage_currently_past_due       0\n",
       "tot_amount_currently_past_due         0\n",
       "num_inq_12_month                      0\n",
       "num_card_inq_24_month                 0\n",
       "num_card_12_month                     0\n",
       "num_auto_ 36_month                    0\n",
       "uti_open_card                         0\n",
       "pct_over_50_uti                       0\n",
       "uti_max_credit_line                   0\n",
       "pct_card_over_50_uti               1958\n",
       "ind_XYZ                               0\n",
       "rep_income                         1559\n",
       "rep_education                         1\n",
       "Def_ind                               0\n",
       "dtype: int64"
      ]
     },
     "execution_count": 9,
     "metadata": {},
     "output_type": "execute_result"
    }
   ],
   "source": [
    "df.isna().sum()"
   ]
  },
  {
   "cell_type": "code",
   "execution_count": 130,
   "id": "424f414a",
   "metadata": {},
   "outputs": [
    {
     "data": {
      "text/html": [
       "<div>\n",
       "<style scoped>\n",
       "    .dataframe tbody tr th:only-of-type {\n",
       "        vertical-align: middle;\n",
       "    }\n",
       "\n",
       "    .dataframe tbody tr th {\n",
       "        vertical-align: top;\n",
       "    }\n",
       "\n",
       "    .dataframe thead th {\n",
       "        text-align: right;\n",
       "    }\n",
       "</style>\n",
       "<table border=\"1\" class=\"dataframe\">\n",
       "  <thead>\n",
       "    <tr style=\"text-align: right;\">\n",
       "      <th></th>\n",
       "      <th>tot_balance</th>\n",
       "      <th>avg_bal_cards</th>\n",
       "      <th>credit_age</th>\n",
       "      <th>credit_age_good_account</th>\n",
       "      <th>credit_card_age</th>\n",
       "      <th>num_acc_30d_past_due_12_months</th>\n",
       "      <th>num_acc_30d_past_due_6_months</th>\n",
       "      <th>num_mortgage_currently_past_due</th>\n",
       "      <th>tot_amount_currently_past_due</th>\n",
       "      <th>num_inq_12_month</th>\n",
       "      <th>...</th>\n",
       "      <th>num_card_12_month</th>\n",
       "      <th>num_auto_ 36_month</th>\n",
       "      <th>uti_open_card</th>\n",
       "      <th>pct_over_50_uti</th>\n",
       "      <th>uti_max_credit_line</th>\n",
       "      <th>pct_card_over_50_uti</th>\n",
       "      <th>ind_XYZ</th>\n",
       "      <th>rep_income</th>\n",
       "      <th>rep_education</th>\n",
       "      <th>Def_ind</th>\n",
       "    </tr>\n",
       "  </thead>\n",
       "  <tbody>\n",
       "    <tr>\n",
       "      <th>0</th>\n",
       "      <td>102956.1101</td>\n",
       "      <td>14819.05740</td>\n",
       "      <td>238</td>\n",
       "      <td>104</td>\n",
       "      <td>264</td>\n",
       "      <td>0</td>\n",
       "      <td>0</td>\n",
       "      <td>0</td>\n",
       "      <td>0.0</td>\n",
       "      <td>0</td>\n",
       "      <td>...</td>\n",
       "      <td>1</td>\n",
       "      <td>0</td>\n",
       "      <td>0.366737</td>\n",
       "      <td>0.342183</td>\n",
       "      <td>0.513934</td>\n",
       "      <td>0.550866</td>\n",
       "      <td>0</td>\n",
       "      <td>118266.32130</td>\n",
       "      <td>college</td>\n",
       "      <td>0</td>\n",
       "    </tr>\n",
       "    <tr>\n",
       "      <th>1</th>\n",
       "      <td>132758.7258</td>\n",
       "      <td>18951.93455</td>\n",
       "      <td>384</td>\n",
       "      <td>197</td>\n",
       "      <td>371</td>\n",
       "      <td>0</td>\n",
       "      <td>0</td>\n",
       "      <td>0</td>\n",
       "      <td>0.0</td>\n",
       "      <td>0</td>\n",
       "      <td>...</td>\n",
       "      <td>0</td>\n",
       "      <td>0</td>\n",
       "      <td>0.490809</td>\n",
       "      <td>0.540671</td>\n",
       "      <td>0.418016</td>\n",
       "      <td>0.550964</td>\n",
       "      <td>0</td>\n",
       "      <td>89365.05765</td>\n",
       "      <td>college</td>\n",
       "      <td>0</td>\n",
       "    </tr>\n",
       "    <tr>\n",
       "      <th>2</th>\n",
       "      <td>124658.9174</td>\n",
       "      <td>15347.92969</td>\n",
       "      <td>277</td>\n",
       "      <td>110</td>\n",
       "      <td>288</td>\n",
       "      <td>0</td>\n",
       "      <td>0</td>\n",
       "      <td>0</td>\n",
       "      <td>0.0</td>\n",
       "      <td>0</td>\n",
       "      <td>...</td>\n",
       "      <td>0</td>\n",
       "      <td>0</td>\n",
       "      <td>0.359074</td>\n",
       "      <td>0.338560</td>\n",
       "      <td>0.341627</td>\n",
       "      <td>0.451417</td>\n",
       "      <td>0</td>\n",
       "      <td>201365.12130</td>\n",
       "      <td>college</td>\n",
       "      <td>0</td>\n",
       "    </tr>\n",
       "    <tr>\n",
       "      <th>3</th>\n",
       "      <td>133968.5369</td>\n",
       "      <td>14050.71334</td>\n",
       "      <td>375</td>\n",
       "      <td>224</td>\n",
       "      <td>343</td>\n",
       "      <td>0</td>\n",
       "      <td>0</td>\n",
       "      <td>0</td>\n",
       "      <td>0.0</td>\n",
       "      <td>2</td>\n",
       "      <td>...</td>\n",
       "      <td>1</td>\n",
       "      <td>0</td>\n",
       "      <td>0.700379</td>\n",
       "      <td>0.683589</td>\n",
       "      <td>0.542940</td>\n",
       "      <td>0.607843</td>\n",
       "      <td>0</td>\n",
       "      <td>191794.48550</td>\n",
       "      <td>college</td>\n",
       "      <td>0</td>\n",
       "    </tr>\n",
       "    <tr>\n",
       "      <th>4</th>\n",
       "      <td>143601.8017</td>\n",
       "      <td>14858.51527</td>\n",
       "      <td>374</td>\n",
       "      <td>155</td>\n",
       "      <td>278</td>\n",
       "      <td>0</td>\n",
       "      <td>0</td>\n",
       "      <td>0</td>\n",
       "      <td>0.0</td>\n",
       "      <td>0</td>\n",
       "      <td>...</td>\n",
       "      <td>0</td>\n",
       "      <td>0</td>\n",
       "      <td>0.647351</td>\n",
       "      <td>0.510812</td>\n",
       "      <td>0.632934</td>\n",
       "      <td>0.573680</td>\n",
       "      <td>0</td>\n",
       "      <td>161465.36790</td>\n",
       "      <td>graduate</td>\n",
       "      <td>0</td>\n",
       "    </tr>\n",
       "  </tbody>\n",
       "</table>\n",
       "<p>5 rows × 21 columns</p>\n",
       "</div>"
      ],
      "text/plain": [
       "   tot_balance  avg_bal_cards  credit_age  credit_age_good_account  \\\n",
       "0  102956.1101    14819.05740         238                      104   \n",
       "1  132758.7258    18951.93455         384                      197   \n",
       "2  124658.9174    15347.92969         277                      110   \n",
       "3  133968.5369    14050.71334         375                      224   \n",
       "4  143601.8017    14858.51527         374                      155   \n",
       "\n",
       "   credit_card_age  num_acc_30d_past_due_12_months  \\\n",
       "0              264                               0   \n",
       "1              371                               0   \n",
       "2              288                               0   \n",
       "3              343                               0   \n",
       "4              278                               0   \n",
       "\n",
       "   num_acc_30d_past_due_6_months  num_mortgage_currently_past_due  \\\n",
       "0                              0                                0   \n",
       "1                              0                                0   \n",
       "2                              0                                0   \n",
       "3                              0                                0   \n",
       "4                              0                                0   \n",
       "\n",
       "   tot_amount_currently_past_due  num_inq_12_month  ...  num_card_12_month  \\\n",
       "0                            0.0                 0  ...                  1   \n",
       "1                            0.0                 0  ...                  0   \n",
       "2                            0.0                 0  ...                  0   \n",
       "3                            0.0                 2  ...                  1   \n",
       "4                            0.0                 0  ...                  0   \n",
       "\n",
       "   num_auto_ 36_month  uti_open_card  pct_over_50_uti  uti_max_credit_line  \\\n",
       "0                   0       0.366737         0.342183             0.513934   \n",
       "1                   0       0.490809         0.540671             0.418016   \n",
       "2                   0       0.359074         0.338560             0.341627   \n",
       "3                   0       0.700379         0.683589             0.542940   \n",
       "4                   0       0.647351         0.510812             0.632934   \n",
       "\n",
       "   pct_card_over_50_uti  ind_XYZ    rep_income  rep_education Def_ind  \n",
       "0              0.550866        0  118266.32130        college       0  \n",
       "1              0.550964        0   89365.05765        college       0  \n",
       "2              0.451417        0  201365.12130        college       0  \n",
       "3              0.607843        0  191794.48550        college       0  \n",
       "4              0.573680        0  161465.36790       graduate       0  \n",
       "\n",
       "[5 rows x 21 columns]"
      ]
     },
     "execution_count": 130,
     "metadata": {},
     "output_type": "execute_result"
    }
   ],
   "source": [
    "df.head()"
   ]
  },
  {
   "cell_type": "code",
   "execution_count": 109,
   "id": "9a189ccd",
   "metadata": {},
   "outputs": [
    {
     "data": {
      "text/plain": [
       "((20000, 21),\n",
       " Index(['tot_balance', 'avg_bal_cards', 'credit_age', 'credit_age_good_account',\n",
       "        'credit_card_age', 'num_acc_30d_past_due_12_months',\n",
       "        'num_acc_30d_past_due_6_months', 'num_mortgage_currently_past_due',\n",
       "        'tot_amount_currently_past_due', 'num_inq_12_month',\n",
       "        'num_card_inq_24_month', 'num_card_12_month', 'num_auto_ 36_month',\n",
       "        'uti_open_card', 'pct_over_50_uti', 'uti_max_credit_line',\n",
       "        'pct_card_over_50_uti', 'ind_XYZ', 'rep_income', 'rep_education',\n",
       "        'Def_ind'],\n",
       "       dtype='object'),\n",
       " tot_balance                        float64\n",
       " avg_bal_cards                      float64\n",
       " credit_age                           int64\n",
       " credit_age_good_account              int64\n",
       " credit_card_age                      int64\n",
       " num_acc_30d_past_due_12_months       int64\n",
       " num_acc_30d_past_due_6_months        int64\n",
       " num_mortgage_currently_past_due      int64\n",
       " tot_amount_currently_past_due      float64\n",
       " num_inq_12_month                     int64\n",
       " num_card_inq_24_month                int64\n",
       " num_card_12_month                    int64\n",
       " num_auto_ 36_month                   int64\n",
       " uti_open_card                      float64\n",
       " pct_over_50_uti                    float64\n",
       " uti_max_credit_line                float64\n",
       " pct_card_over_50_uti               float64\n",
       " ind_XYZ                              int64\n",
       " rep_income                         float64\n",
       " rep_education                       object\n",
       " Def_ind                              int64\n",
       " dtype: object,\n",
       "    tot_balance  avg_bal_cards  credit_age  credit_age_good_account  \\\n",
       " 0  102956.1101    14819.05740         238                      104   \n",
       " 1  132758.7258    18951.93455         384                      197   \n",
       " 2  124658.9174    15347.92969         277                      110   \n",
       " 3  133968.5369    14050.71334         375                      224   \n",
       " 4  143601.8017    14858.51527         374                      155   \n",
       " \n",
       "    credit_card_age  num_acc_30d_past_due_12_months  \\\n",
       " 0              264                               0   \n",
       " 1              371                               0   \n",
       " 2              288                               0   \n",
       " 3              343                               0   \n",
       " 4              278                               0   \n",
       " \n",
       "    num_acc_30d_past_due_6_months  num_mortgage_currently_past_due  \\\n",
       " 0                              0                                0   \n",
       " 1                              0                                0   \n",
       " 2                              0                                0   \n",
       " 3                              0                                0   \n",
       " 4                              0                                0   \n",
       " \n",
       "    tot_amount_currently_past_due  num_inq_12_month  ...  num_card_12_month  \\\n",
       " 0                            0.0                 0  ...                  1   \n",
       " 1                            0.0                 0  ...                  0   \n",
       " 2                            0.0                 0  ...                  0   \n",
       " 3                            0.0                 2  ...                  1   \n",
       " 4                            0.0                 0  ...                  0   \n",
       " \n",
       "    num_auto_ 36_month  uti_open_card  pct_over_50_uti  uti_max_credit_line  \\\n",
       " 0                   0       0.366737         0.342183             0.513934   \n",
       " 1                   0       0.490809         0.540671             0.418016   \n",
       " 2                   0       0.359074         0.338560             0.341627   \n",
       " 3                   0       0.700379         0.683589             0.542940   \n",
       " 4                   0       0.647351         0.510812             0.632934   \n",
       " \n",
       "    pct_card_over_50_uti  ind_XYZ    rep_income  rep_education Def_ind  \n",
       " 0              0.550866        0  118266.32130        college       0  \n",
       " 1                   NaN        0   89365.05765        college       0  \n",
       " 2              0.451417        0  201365.12130        college       0  \n",
       " 3              0.607843        0  191794.48550        college       0  \n",
       " 4              0.573680        0  161465.36790       graduate       0  \n",
       " \n",
       " [5 rows x 21 columns])"
      ]
     },
     "execution_count": 109,
     "metadata": {},
     "output_type": "execute_result"
    }
   ],
   "source": [
    "df.shape, df.columns, df.dtypes, df.head()"
   ]
  },
  {
   "cell_type": "code",
   "execution_count": 5,
   "id": "f599f7b7",
   "metadata": {},
   "outputs": [],
   "source": [
    "# There appears to be 1958 missing values for 'pct_card_over_50_uti', 1559 missing values for 'rep_income' and 1 \n",
    "# missing value for 'rep_education'"
   ]
  },
  {
   "cell_type": "code",
   "execution_count": 110,
   "id": "d6c5ee4d",
   "metadata": {},
   "outputs": [],
   "source": [
    "# Replace missing values with the mean for each column\n",
    "columns_to_fill = ['pct_card_over_50_uti', 'rep_income']\n",
    "for column in columns_to_fill:\n",
    "    mean = df[column].mean()  \n",
    "    df[column].fillna(mean, inplace=True)  \n",
    "for column in df.columns:\n",
    "    mode = df[column].mode().iloc[0]  \n",
    "    df[column] = df[column].fillna(mode)  "
   ]
  },
  {
   "cell_type": "code",
   "execution_count": 111,
   "id": "f90d9799",
   "metadata": {},
   "outputs": [
    {
     "data": {
      "text/plain": [
       "tot_balance                        0\n",
       "avg_bal_cards                      0\n",
       "credit_age                         0\n",
       "credit_age_good_account            0\n",
       "credit_card_age                    0\n",
       "num_acc_30d_past_due_12_months     0\n",
       "num_acc_30d_past_due_6_months      0\n",
       "num_mortgage_currently_past_due    0\n",
       "tot_amount_currently_past_due      0\n",
       "num_inq_12_month                   0\n",
       "num_card_inq_24_month              0\n",
       "num_card_12_month                  0\n",
       "num_auto_ 36_month                 0\n",
       "uti_open_card                      0\n",
       "pct_over_50_uti                    0\n",
       "uti_max_credit_line                0\n",
       "pct_card_over_50_uti               0\n",
       "ind_XYZ                            0\n",
       "rep_income                         0\n",
       "rep_education                      0\n",
       "Def_ind                            0\n",
       "dtype: int64"
      ]
     },
     "execution_count": 111,
     "metadata": {},
     "output_type": "execute_result"
    }
   ],
   "source": [
    "df.isna().sum()"
   ]
  },
  {
   "cell_type": "code",
   "execution_count": 13,
   "id": "451be893",
   "metadata": {},
   "outputs": [],
   "source": [
    "# 'pct_card_over_50_uti' and 'rep_income' were columns with integers so I used the mean to fill the missing values. \n",
    "# 'rep_education', however, was a string value so I used the mode to fill the single missing value"
   ]
  },
  {
   "cell_type": "code",
   "execution_count": 21,
   "id": "da7195db",
   "metadata": {},
   "outputs": [],
   "source": [
    "# 1 B"
   ]
  },
  {
   "cell_type": "code",
   "execution_count": 112,
   "id": "4bc4ba81",
   "metadata": {},
   "outputs": [
    {
     "name": "stdout",
     "output_type": "stream",
     "text": [
      "college        0.6069\n",
      "high_school    0.2657\n",
      "graduate       0.1203\n",
      "other          0.0071\n",
      "Name: rep_education, dtype: float64\n"
     ]
    }
   ],
   "source": [
    "value_counts = df['rep_education'].value_counts()\n",
    "proportions = value_counts / len(df)\n",
    "\n",
    "print(proportions)"
   ]
  },
  {
   "cell_type": "code",
   "execution_count": 19,
   "id": "80010d25",
   "metadata": {},
   "outputs": [],
   "source": [
    "# I took the proportions of each value of the 'rep_education' variable and took the proportions, showing us that the \n",
    "# value 'other' is the least represented by a landslide"
   ]
  },
  {
   "cell_type": "code",
   "execution_count": 20,
   "id": "6aa4f268",
   "metadata": {},
   "outputs": [],
   "source": [
    "# 1 C"
   ]
  },
  {
   "cell_type": "code",
   "execution_count": 113,
   "id": "084e6e61",
   "metadata": {},
   "outputs": [
    {
     "data": {
      "image/png": "[encoded data removed]",
      "text/plain": [
       "<Figure size 640x480 with 1 Axes>"
      ]
     },
     "metadata": {},
     "output_type": "display_data"
    },
    {
     "name": "stdout",
     "output_type": "stream",
     "text": [
      "The classes are not balanced.\n"
     ]
    }
   ],
   "source": [
    "import matplotlib.pyplot as plt\n",
    "\n",
    "class_counts = df['rep_education'].value_counts()\n",
    "\n",
    "# Check the balance by comparing class counts\n",
    "is_balanced = class_counts.min() / class_counts.max() > 0.8  # Define a balance threshold (adjust as needed)\n",
    "\n",
    "# Visualize class distribution with a bar chart\n",
    "class_counts.plot(kind='bar')\n",
    "plt.title('Class Distribution')\n",
    "plt.xlabel('Class')\n",
    "plt.ylabel('Count')\n",
    "plt.show()\n",
    "\n",
    "if is_balanced:\n",
    "    print(\"The classes are balanced.\")\n",
    "else:\n",
    "    print(\"The classes are not balanced.\")"
   ]
  },
  {
   "cell_type": "code",
   "execution_count": 25,
   "id": "700d0455",
   "metadata": {},
   "outputs": [],
   "source": [
    "# 1 D"
   ]
  },
  {
   "cell_type": "code",
   "execution_count": 114,
   "id": "577764c0",
   "metadata": {},
   "outputs": [
    {
     "data": {
      "image/png": "[encoded data removed]",
      "text/plain": [
       "<Figure size 640x480 with 1 Axes>"
      ]
     },
     "metadata": {},
     "output_type": "display_data"
    }
   ],
   "source": [
    "plt.hist(df['rep_income'], bins=20)\n",
    "plt.xlabel('Variable Values')\n",
    "plt.ylabel('Frequency')\n",
    "plt.title('Distribution of Variable')\n",
    "plt.show()"
   ]
  },
  {
   "cell_type": "code",
   "execution_count": 28,
   "id": "c03d4409",
   "metadata": {},
   "outputs": [],
   "source": [
    "# The histogram shows that 'rep_income' is not skewed and that it appears to be normally distributed"
   ]
  },
  {
   "cell_type": "code",
   "execution_count": 35,
   "id": "939fa196",
   "metadata": {},
   "outputs": [],
   "source": [
    "# 1 E"
   ]
  },
  {
   "cell_type": "code",
   "execution_count": 115,
   "id": "9cb254f3",
   "metadata": {},
   "outputs": [
    {
     "name": "stdout",
     "output_type": "stream",
     "text": [
      "rep_education\n",
      "college        0.096968\n",
      "graduate       0.081879\n",
      "high_school    0.115732\n",
      "other          0.077465\n",
      "Name: Def_ind, dtype: float64\n"
     ]
    }
   ],
   "source": [
    "grouped = df.groupby('rep_education')['Def_ind']\n",
    "\n",
    "mean_by_group = grouped.mean()\n",
    "\n",
    "print(mean_by_group)"
   ]
  },
  {
   "cell_type": "code",
   "execution_count": 36,
   "id": "a08a673d",
   "metadata": {},
   "outputs": [],
   "source": [
    "# It appears that the high school group is most likely to default on loans"
   ]
  },
  {
   "cell_type": "code",
   "execution_count": 37,
   "id": "c9c65d12",
   "metadata": {},
   "outputs": [],
   "source": [
    "# 1 F"
   ]
  },
  {
   "cell_type": "code",
   "execution_count": 116,
   "id": "662a2b57",
   "metadata": {},
   "outputs": [],
   "source": [
    "correlation_matrix = df.corr()"
   ]
  },
  {
   "cell_type": "code",
   "execution_count": 117,
   "id": "df721451",
   "metadata": {},
   "outputs": [
    {
     "data": {
      "image/png": "[encoded data removed]",
      "text/plain": [
       "<Figure size 1000x800 with 2 Axes>"
      ]
     },
     "metadata": {},
     "output_type": "display_data"
    }
   ],
   "source": [
    "plt.figure(figsize=(10, 8))\n",
    "plt.imshow(correlation_matrix)\n",
    "plt.colorbar()\n",
    "plt.title(\"Correlation Heatmap\")\n",
    "plt.xticks(range(len(correlation_matrix.columns)), correlation_matrix.columns, rotation=90)\n",
    "plt.yticks(range(len(correlation_matrix.columns)), correlation_matrix.columns)\n",
    "plt.show()"
   ]
  },
  {
   "cell_type": "code",
   "execution_count": 44,
   "id": "f7459835",
   "metadata": {},
   "outputs": [],
   "source": [
    "# There does appear to be a bit of multicollinearity as some of the variables are pretty highly correlated with others"
   ]
  },
  {
   "cell_type": "code",
   "execution_count": 46,
   "id": "f80fd86c",
   "metadata": {},
   "outputs": [],
   "source": [
    "# 1 2/3"
   ]
  },
  {
   "cell_type": "code",
   "execution_count": 118,
   "id": "99eb3eb1",
   "metadata": {},
   "outputs": [],
   "source": [
    "df_new = pd.get_dummies(df, columns = ['rep_education'])"
   ]
  },
  {
   "cell_type": "code",
   "execution_count": 119,
   "id": "a2b51a6a",
   "metadata": {},
   "outputs": [],
   "source": [
    "y = df_new.Def_ind\n",
    "X = df_new.loc[:, df_new.columns != 'Def_ind']\n",
    "\n",
    "X_train, X_test, y_train, y_test = train_test_split(X, y, test_size=0.2, random_state=0)"
   ]
  },
  {
   "cell_type": "code",
   "execution_count": 120,
   "id": "3679f008",
   "metadata": {},
   "outputs": [
    {
     "data": {
      "text/plain": [
       "LogisticRegression()"
      ]
     },
     "execution_count": 120,
     "metadata": {},
     "output_type": "execute_result"
    }
   ],
   "source": [
    "from sklearn.linear_model import LogisticRegression\n",
    "\n",
    "model = LogisticRegression()\n",
    "model.fit(X_train, y_train)"
   ]
  },
  {
   "cell_type": "code",
   "execution_count": 121,
   "id": "d2562cbc",
   "metadata": {},
   "outputs": [],
   "source": [
    "y_pred = model.predict(X_test)"
   ]
  },
  {
   "cell_type": "code",
   "execution_count": 122,
   "id": "5659fb12",
   "metadata": {},
   "outputs": [
    {
     "data": {
      "text/plain": [
       "(0.10625, 0.10625)"
      ]
     },
     "execution_count": 122,
     "metadata": {},
     "output_type": "execute_result"
    }
   ],
   "source": [
    "from sklearn.metrics import mean_absolute_error\n",
    "from sklearn.metrics import mean_squared_error\n",
    "\n",
    "MAE = mean_absolute_error(y_test,y_pred)\n",
    "MSE = mean_squared_error(y_test,y_pred)\n",
    "\n",
    "MSE,MAE"
   ]
  },
  {
   "cell_type": "code",
   "execution_count": 123,
   "id": "6616f0ae",
   "metadata": {},
   "outputs": [
    {
     "data": {
      "text/plain": [
       "array([[-4.78412846e-07, -1.14007607e-04, -2.21096628e-03,\n",
       "        -9.19203513e-04, -1.74963226e-03,  1.05300383e-05,\n",
       "         2.24592246e-06,  2.62045367e-06,  2.55336530e-04,\n",
       "         3.55797315e-05,  5.52225178e-05,  3.91694926e-06,\n",
       "        -9.15205427e-08,  6.67986569e-06,  5.08418567e-06,\n",
       "         4.97495917e-06,  4.94254642e-06, -5.21676055e-06,\n",
       "         1.24525053e-06, -3.21141386e-06, -1.28943360e-06,\n",
       "         3.55624532e-06, -4.20018789e-08]])"
      ]
     },
     "execution_count": 123,
     "metadata": {},
     "output_type": "execute_result"
    }
   ],
   "source": [
    "array = model.coef_\n",
    "array"
   ]
  },
  {
   "cell_type": "code",
   "execution_count": 124,
   "id": "9660c612",
   "metadata": {},
   "outputs": [
    {
     "data": {
      "text/plain": [
       "0.89375"
      ]
     },
     "execution_count": 124,
     "metadata": {},
     "output_type": "execute_result"
    }
   ],
   "source": [
    "model.score(X_test, y_test)"
   ]
  },
  {
   "cell_type": "code",
   "execution_count": 125,
   "id": "f1096437",
   "metadata": {},
   "outputs": [
    {
     "name": "stdout",
     "output_type": "stream",
     "text": [
      "0.89375\n",
      "0.7317073170731707\n",
      "0.06756756756756757\n"
     ]
    }
   ],
   "source": [
    "accuracy = accuracy_score(y_test, y_pred)\n",
    "precision = precision_score(y_test, y_pred)\n",
    "recall = recall_score(y_test, y_pred)\n",
    "\n",
    "print(accuracy)\n",
    "print(precision)\n",
    "print(recall)"
   ]
  },
  {
   "cell_type": "code",
   "execution_count": 91,
   "id": "1c40b022",
   "metadata": {},
   "outputs": [],
   "source": [
    "# The mean absolute error and mean squared error appear to be low, indicating the model being accurate, along with \n",
    "# a high R-sqaured of .89375, emphasizing the precision of this fit. The accuracy score is the same as the R-squared,\n",
    "# It is a relatively precise model, with a score of .73, and has a low recall of .067. "
   ]
  },
  {
   "cell_type": "code",
   "execution_count": 61,
   "id": "02a7c75d",
   "metadata": {},
   "outputs": [],
   "source": [
    "# 1 4"
   ]
  },
  {
   "cell_type": "code",
   "execution_count": 126,
   "id": "24c67f31",
   "metadata": {},
   "outputs": [
    {
     "name": "stdout",
     "output_type": "stream",
     "text": [
      "[[3545   11]\n",
      " [ 414   30]]\n"
     ]
    }
   ],
   "source": [
    "from sklearn.metrics import confusion_matrix\n",
    "\n",
    "conf_matrix = confusion_matrix(y_test, y_pred)\n",
    "\n",
    "print(conf_matrix)"
   ]
  },
  {
   "cell_type": "code",
   "execution_count": 64,
   "id": "8f05b9da",
   "metadata": {},
   "outputs": [],
   "source": [
    "# given that the numbers in the left column are much laarger than on the right, we can see that the model predicted\n",
    "# many more negative values than positive, aas the left column is true and false negatives. True negatives is the\n",
    "#top number and 3545>414 so the model did a pretty good job at correctly identifying the negative values. On the right\n",
    "# we see that the model also correctly predicted the positive values at a 3:1 ratio as true positives are 30 compared\n",
    "# to 11 false positives. "
   ]
  },
  {
   "cell_type": "code",
   "execution_count": 127,
   "id": "5f3ca574",
   "metadata": {},
   "outputs": [],
   "source": [
    "from sklearn.metrics import roc_curve, auc\n",
    "\n",
    "y_prob = model.predict_proba(X_test)[:,1]"
   ]
  },
  {
   "cell_type": "code",
   "execution_count": 128,
   "id": "c2a6184c",
   "metadata": {},
   "outputs": [
    {
     "data": {
      "image/png": "[encoded data removed]",
      "text/plain": [
       "<Figure size 800x600 with 1 Axes>"
      ]
     },
     "metadata": {},
     "output_type": "display_data"
    }
   ],
   "source": [
    "fpr, tpr, thresholds = roc_curve(y_test, y_prob)\n",
    "\n",
    "roc_auc = auc(fpr, tpr)\n",
    "\n",
    "plt.figure(figsize=(8, 6))\n",
    "plt.plot(fpr, tpr, lw=2, label='ROC curve' % roc_auc)\n",
    "plt.plot([0, 1], [0, 1], color='navy', lw=2, linestyle='--')\n",
    "plt.xlim([0.0, 1.0])\n",
    "plt.ylim([0.0, 1.05])\n",
    "plt.xlabel('False Positive Rate')\n",
    "plt.ylabel('True Positive Rate')\n",
    "plt.title('ROC')\n",
    "plt.legend(loc=\"upper left\")\n",
    "plt.show()"
   ]
  },
  {
   "cell_type": "code",
   "execution_count": 69,
   "id": "953ea95e",
   "metadata": {},
   "outputs": [],
   "source": [
    "# 1 6"
   ]
  },
  {
   "cell_type": "code",
   "execution_count": 129,
   "id": "1b8a65a8",
   "metadata": {},
   "outputs": [
    {
     "data": {
      "text/plain": [
       "array([[4.20018789e-08, 9.15205427e-08, 4.78412846e-07, 1.24525053e-06,\n",
       "        1.28943360e-06, 2.24592246e-06, 2.62045367e-06, 3.21141386e-06,\n",
       "        3.55624532e-06, 3.91694926e-06, 4.94254642e-06, 4.97495917e-06,\n",
       "        5.08418567e-06, 5.21676055e-06, 6.67986569e-06, 1.05300383e-05,\n",
       "        3.55797315e-05, 5.52225178e-05, 1.14007607e-04, 2.55336530e-04,\n",
       "        9.19203513e-04, 1.74963226e-03, 2.21096628e-03]])"
      ]
     },
     "execution_count": 129,
     "metadata": {},
     "output_type": "execute_result"
    }
   ],
   "source": [
    "abs_array = np.abs(array)\n",
    "sorted_abs_array = np.sort(abs_array)[::-1]\n",
    "sorted_abs_array"
   ]
  },
  {
   "cell_type": "code",
   "execution_count": 134,
   "id": "5d76d050",
   "metadata": {},
   "outputs": [
    {
     "name": "stdout",
     "output_type": "stream",
     "text": [
      "[('tot_balance', array([4.20018789e-08, 9.15205427e-08, 4.78412846e-07, 1.24525053e-06,\n",
      "       1.28943360e-06, 2.24592246e-06, 2.62045367e-06, 3.21141386e-06,\n",
      "       3.55624532e-06, 3.91694926e-06, 4.94254642e-06, 4.97495917e-06,\n",
      "       5.08418567e-06, 5.21676055e-06, 6.67986569e-06, 1.05300383e-05,\n",
      "       3.55797315e-05, 5.52225178e-05, 1.14007607e-04, 2.55336530e-04,\n",
      "       9.19203513e-04, 1.74963226e-03, 2.21096628e-03]))]\n"
     ]
    }
   ],
   "source": [
    "variable_coefficient_pairs = []\n",
    "\n",
    "for coefficient, X_train in zip(sorted_abs_array, X_train):\n",
    "    variable_coefficient_pairs.append((X_train, coefficient))\n",
    "    \n",
    "print(variable_coefficient_pairs)\n"
   ]
  },
  {
   "cell_type": "code",
   "execution_count": null,
   "id": "1850ab49",
   "metadata": {},
   "outputs": [],
   "source": [
    "# The coefficients that effect 'Def_ind' the most are 4.2e-08, 9.15e-08 and 4.78e-07. "
   ]
  },
  {
   "cell_type": "code",
   "execution_count": 70,
   "id": "de0232d0",
   "metadata": {},
   "outputs": [],
   "source": [
    "# LDA 1"
   ]
  },
  {
   "cell_type": "code",
   "execution_count": 72,
   "id": "f56135e5",
   "metadata": {},
   "outputs": [],
   "source": [
    "df_LDA = pd.read_csv('/Users/liamcarney9/Downloads/mobile_phone_prices.csv')"
   ]
  },
  {
   "cell_type": "code",
   "execution_count": 73,
   "id": "b05daccc",
   "metadata": {},
   "outputs": [
    {
     "data": {
      "text/plain": [
       "battery_power      0\n",
       "bluetooth          0\n",
       "clock_speed        0\n",
       "dual_sim           0\n",
       "front_camera       0\n",
       "four_g             0\n",
       "int_memory         0\n",
       "mobile_depth       0\n",
       "mobile_weight      0\n",
       "number_of cores    0\n",
       "pc                 0\n",
       "px_height          0\n",
       "px_width           0\n",
       "ram                0\n",
       "sc_h               0\n",
       "sc_w               0\n",
       "talk_time          0\n",
       "three_g            0\n",
       "touch_screen       0\n",
       "wifi               0\n",
       "price_range        0\n",
       "dtype: int64"
      ]
     },
     "execution_count": 73,
     "metadata": {},
     "output_type": "execute_result"
    }
   ],
   "source": [
    "df_LDA.isna().sum()"
   ]
  },
  {
   "cell_type": "code",
   "execution_count": 75,
   "id": "2e9aad18",
   "metadata": {},
   "outputs": [
    {
     "data": {
      "text/plain": [
       "((2000, 21),\n",
       " Index(['battery_power', 'bluetooth', 'clock_speed', 'dual_sim', 'front_camera',\n",
       "        'four_g', 'int_memory', 'mobile_depth', 'mobile_weight',\n",
       "        'number_of cores', 'pc', 'px_height', 'px_width', 'ram', 'sc_h', 'sc_w',\n",
       "        'talk_time', 'three_g', 'touch_screen', 'wifi', 'price_range'],\n",
       "       dtype='object'),\n",
       " battery_power        int64\n",
       " bluetooth            int64\n",
       " clock_speed        float64\n",
       " dual_sim             int64\n",
       " front_camera         int64\n",
       " four_g               int64\n",
       " int_memory           int64\n",
       " mobile_depth       float64\n",
       " mobile_weight        int64\n",
       " number_of cores      int64\n",
       " pc                   int64\n",
       " px_height            int64\n",
       " px_width             int64\n",
       " ram                  int64\n",
       " sc_h                 int64\n",
       " sc_w                 int64\n",
       " talk_time            int64\n",
       " three_g              int64\n",
       " touch_screen         int64\n",
       " wifi                 int64\n",
       " price_range          int64\n",
       " dtype: object)"
      ]
     },
     "execution_count": 75,
     "metadata": {},
     "output_type": "execute_result"
    }
   ],
   "source": [
    "df_LDA.shape, df_LDA.columns, df_LDA.dtypes"
   ]
  },
  {
   "cell_type": "code",
   "execution_count": 76,
   "id": "75ec737c",
   "metadata": {},
   "outputs": [
    {
     "data": {
      "text/html": [
       "<div>\n",
       "<style scoped>\n",
       "    .dataframe tbody tr th:only-of-type {\n",
       "        vertical-align: middle;\n",
       "    }\n",
       "\n",
       "    .dataframe tbody tr th {\n",
       "        vertical-align: top;\n",
       "    }\n",
       "\n",
       "    .dataframe thead th {\n",
       "        text-align: right;\n",
       "    }\n",
       "</style>\n",
       "<table border=\"1\" class=\"dataframe\">\n",
       "  <thead>\n",
       "    <tr style=\"text-align: right;\">\n",
       "      <th></th>\n",
       "      <th>battery_power</th>\n",
       "      <th>bluetooth</th>\n",
       "      <th>clock_speed</th>\n",
       "      <th>dual_sim</th>\n",
       "      <th>front_camera</th>\n",
       "      <th>four_g</th>\n",
       "      <th>int_memory</th>\n",
       "      <th>mobile_depth</th>\n",
       "      <th>mobile_weight</th>\n",
       "      <th>number_of cores</th>\n",
       "      <th>...</th>\n",
       "      <th>px_height</th>\n",
       "      <th>px_width</th>\n",
       "      <th>ram</th>\n",
       "      <th>sc_h</th>\n",
       "      <th>sc_w</th>\n",
       "      <th>talk_time</th>\n",
       "      <th>three_g</th>\n",
       "      <th>touch_screen</th>\n",
       "      <th>wifi</th>\n",
       "      <th>price_range</th>\n",
       "    </tr>\n",
       "  </thead>\n",
       "  <tbody>\n",
       "    <tr>\n",
       "      <th>0</th>\n",
       "      <td>842</td>\n",
       "      <td>0</td>\n",
       "      <td>2.2</td>\n",
       "      <td>0</td>\n",
       "      <td>1</td>\n",
       "      <td>0</td>\n",
       "      <td>7</td>\n",
       "      <td>0.6</td>\n",
       "      <td>188</td>\n",
       "      <td>2</td>\n",
       "      <td>...</td>\n",
       "      <td>20</td>\n",
       "      <td>756</td>\n",
       "      <td>2549</td>\n",
       "      <td>9</td>\n",
       "      <td>7</td>\n",
       "      <td>19</td>\n",
       "      <td>0</td>\n",
       "      <td>0</td>\n",
       "      <td>1</td>\n",
       "      <td>1</td>\n",
       "    </tr>\n",
       "    <tr>\n",
       "      <th>1</th>\n",
       "      <td>1021</td>\n",
       "      <td>1</td>\n",
       "      <td>0.5</td>\n",
       "      <td>1</td>\n",
       "      <td>0</td>\n",
       "      <td>1</td>\n",
       "      <td>53</td>\n",
       "      <td>0.7</td>\n",
       "      <td>136</td>\n",
       "      <td>3</td>\n",
       "      <td>...</td>\n",
       "      <td>905</td>\n",
       "      <td>1988</td>\n",
       "      <td>2631</td>\n",
       "      <td>17</td>\n",
       "      <td>3</td>\n",
       "      <td>7</td>\n",
       "      <td>1</td>\n",
       "      <td>1</td>\n",
       "      <td>0</td>\n",
       "      <td>2</td>\n",
       "    </tr>\n",
       "    <tr>\n",
       "      <th>2</th>\n",
       "      <td>563</td>\n",
       "      <td>1</td>\n",
       "      <td>0.5</td>\n",
       "      <td>1</td>\n",
       "      <td>2</td>\n",
       "      <td>1</td>\n",
       "      <td>41</td>\n",
       "      <td>0.9</td>\n",
       "      <td>145</td>\n",
       "      <td>5</td>\n",
       "      <td>...</td>\n",
       "      <td>1263</td>\n",
       "      <td>1716</td>\n",
       "      <td>2603</td>\n",
       "      <td>11</td>\n",
       "      <td>2</td>\n",
       "      <td>9</td>\n",
       "      <td>1</td>\n",
       "      <td>1</td>\n",
       "      <td>0</td>\n",
       "      <td>2</td>\n",
       "    </tr>\n",
       "    <tr>\n",
       "      <th>3</th>\n",
       "      <td>615</td>\n",
       "      <td>1</td>\n",
       "      <td>2.5</td>\n",
       "      <td>0</td>\n",
       "      <td>0</td>\n",
       "      <td>0</td>\n",
       "      <td>10</td>\n",
       "      <td>0.8</td>\n",
       "      <td>131</td>\n",
       "      <td>6</td>\n",
       "      <td>...</td>\n",
       "      <td>1216</td>\n",
       "      <td>1786</td>\n",
       "      <td>2769</td>\n",
       "      <td>16</td>\n",
       "      <td>8</td>\n",
       "      <td>11</td>\n",
       "      <td>1</td>\n",
       "      <td>0</td>\n",
       "      <td>0</td>\n",
       "      <td>2</td>\n",
       "    </tr>\n",
       "    <tr>\n",
       "      <th>4</th>\n",
       "      <td>1821</td>\n",
       "      <td>1</td>\n",
       "      <td>1.2</td>\n",
       "      <td>0</td>\n",
       "      <td>13</td>\n",
       "      <td>1</td>\n",
       "      <td>44</td>\n",
       "      <td>0.6</td>\n",
       "      <td>141</td>\n",
       "      <td>2</td>\n",
       "      <td>...</td>\n",
       "      <td>1208</td>\n",
       "      <td>1212</td>\n",
       "      <td>1411</td>\n",
       "      <td>8</td>\n",
       "      <td>2</td>\n",
       "      <td>15</td>\n",
       "      <td>1</td>\n",
       "      <td>1</td>\n",
       "      <td>0</td>\n",
       "      <td>1</td>\n",
       "    </tr>\n",
       "  </tbody>\n",
       "</table>\n",
       "<p>5 rows × 21 columns</p>\n",
       "</div>"
      ],
      "text/plain": [
       "   battery_power  bluetooth  clock_speed  dual_sim  front_camera  four_g  \\\n",
       "0            842          0          2.2         0             1       0   \n",
       "1           1021          1          0.5         1             0       1   \n",
       "2            563          1          0.5         1             2       1   \n",
       "3            615          1          2.5         0             0       0   \n",
       "4           1821          1          1.2         0            13       1   \n",
       "\n",
       "   int_memory  mobile_depth  mobile_weight  number_of cores  ...  px_height  \\\n",
       "0           7           0.6            188                2  ...         20   \n",
       "1          53           0.7            136                3  ...        905   \n",
       "2          41           0.9            145                5  ...       1263   \n",
       "3          10           0.8            131                6  ...       1216   \n",
       "4          44           0.6            141                2  ...       1208   \n",
       "\n",
       "   px_width   ram  sc_h  sc_w  talk_time  three_g  touch_screen  wifi  \\\n",
       "0       756  2549     9     7         19        0             0     1   \n",
       "1      1988  2631    17     3          7        1             1     0   \n",
       "2      1716  2603    11     2          9        1             1     0   \n",
       "3      1786  2769    16     8         11        1             0     0   \n",
       "4      1212  1411     8     2         15        1             1     0   \n",
       "\n",
       "   price_range  \n",
       "0            1  \n",
       "1            2  \n",
       "2            2  \n",
       "3            2  \n",
       "4            1  \n",
       "\n",
       "[5 rows x 21 columns]"
      ]
     },
     "execution_count": 76,
     "metadata": {},
     "output_type": "execute_result"
    }
   ],
   "source": [
    "df_LDA.head()"
   ]
  },
  {
   "cell_type": "code",
   "execution_count": 78,
   "id": "d7790900",
   "metadata": {},
   "outputs": [],
   "source": [
    "y2 = df_LDA.price_range\n",
    "X2 = df_LDA.loc[:, df_LDA.columns != 'price_range']\n",
    "\n",
    "X2_train, X2_test, y2_train, y2_test = train_test_split(X2, y2, test_size=0.2, random_state=0)"
   ]
  },
  {
   "cell_type": "code",
   "execution_count": 81,
   "id": "f16a0c32",
   "metadata": {},
   "outputs": [],
   "source": [
    "model_LDA = LinearDiscriminantAnalysis()"
   ]
  },
  {
   "cell_type": "code",
   "execution_count": 82,
   "id": "d2aa52ec",
   "metadata": {},
   "outputs": [
    {
     "data": {
      "text/plain": [
       "LinearDiscriminantAnalysis()"
      ]
     },
     "execution_count": 82,
     "metadata": {},
     "output_type": "execute_result"
    }
   ],
   "source": [
    "model_LDA.fit(X2_train, y2_train)"
   ]
  },
  {
   "cell_type": "code",
   "execution_count": null,
   "id": "dbc6b08f",
   "metadata": {},
   "outputs": [],
   "source": [
    "# LDA 4"
   ]
  },
  {
   "cell_type": "code",
   "execution_count": 83,
   "id": "3cba1a54",
   "metadata": {},
   "outputs": [
    {
     "data": {
      "text/plain": [
       "array([[-7.69710850e-03, -1.98901217e-01,  9.37195286e-02,\n",
       "         2.47911496e-01, -3.05172230e-02,  1.51798310e-01,\n",
       "        -1.53854025e-02,  1.01082009e-01,  1.14650396e-02,\n",
       "        -1.16481783e-02,  1.51032099e-02, -4.21564045e-03,\n",
       "        -4.13732898e-03, -1.38826709e-02, -8.91577177e-04,\n",
       "         6.95401251e-03, -2.37342540e-02, -3.73234192e-01,\n",
       "         2.59974140e-01,  2.81739363e-01],\n",
       "       [-2.11525153e-03, -5.35836670e-02, -4.17638586e-05,\n",
       "         1.29094693e-01, -6.59045776e-03,  9.49083982e-02,\n",
       "        -2.95761866e-03,  2.30188488e-01,  3.15574457e-03,\n",
       "        -7.43302985e-02,  1.04946597e-02, -1.09399756e-03,\n",
       "        -1.18695303e-03, -4.18478897e-03, -6.39845438e-04,\n",
       "        -1.38536816e-02,  5.90063409e-03, -1.08134462e-01,\n",
       "         1.07828653e-01,  1.09213704e-01],\n",
       "       [ 2.22721402e-03,  4.06846548e-03, -5.38579077e-02,\n",
       "        -1.68139576e-01,  2.03420860e-02, -2.08446879e-01,\n",
       "         1.57466268e-03, -1.04074711e-01, -4.79704230e-04,\n",
       "         4.48576291e-02, -1.06737227e-02,  1.21775334e-03,\n",
       "         1.16950722e-03,  4.49195812e-03, -1.64161552e-02,\n",
       "         6.17725569e-03,  2.39796509e-03,  2.11516766e-01,\n",
       "        -1.93300694e-01, -7.34577857e-02],\n",
       "       [ 7.99802783e-03,  2.61102783e-01, -4.23376902e-02,\n",
       "        -2.21893317e-01,  1.78528643e-02, -4.30407869e-02,\n",
       "         1.76330484e-02, -2.41246523e-01, -1.48666411e-02,\n",
       "         4.41874734e-02, -1.58509284e-02,  4.31442046e-03,\n",
       "         4.38062870e-03,  1.43227990e-02,  1.86658651e-02,\n",
       "         9.29656753e-04,  1.61744304e-02,  2.86167060e-01,\n",
       "        -1.85932743e-01, -3.34733319e-01]])"
      ]
     },
     "execution_count": 83,
     "metadata": {},
     "output_type": "execute_result"
    }
   ],
   "source": [
    "model_LDA.coef_"
   ]
  },
  {
   "cell_type": "code",
   "execution_count": 84,
   "id": "a8713197",
   "metadata": {},
   "outputs": [
    {
     "data": {
      "text/plain": [
       "0.95"
      ]
     },
     "execution_count": 84,
     "metadata": {},
     "output_type": "execute_result"
    }
   ],
   "source": [
    "model_LDA.score(X2_test, y2_test)"
   ]
  },
  {
   "cell_type": "code",
   "execution_count": 85,
   "id": "c2b7ff56",
   "metadata": {},
   "outputs": [],
   "source": [
    "y2_pred = model_LDA.predict(X2_test)"
   ]
  },
  {
   "cell_type": "code",
   "execution_count": 89,
   "id": "146c09c9",
   "metadata": {},
   "outputs": [],
   "source": [
    "conf_matrix_LDA = confusion_matrix(y2_test,y2_pred)"
   ]
  },
  {
   "cell_type": "code",
   "execution_count": 90,
   "id": "bbf6cdea",
   "metadata": {},
   "outputs": [
    {
     "name": "stdout",
     "output_type": "stream",
     "text": [
      "[[ 93   2   0   0]\n",
      " [  2  85   5   0]\n",
      " [  0   5  93   1]\n",
      " [  0   0   5 109]]\n"
     ]
    }
   ],
   "source": [
    "print(conf_matrix_LDA)"
   ]
  },
  {
   "cell_type": "code",
   "execution_count": null,
   "id": "79e9688f",
   "metadata": {},
   "outputs": [],
   "source": [
    "# Based on this confusion matrix, the values going in a diagonal from the top left to the bottom right are very high,\n",
    "# indicating that there are a lot of true positives for each class. The highest value of a non-true positive is a 5,\n",
    "# showing us that the model did a very good job in predicting these values. "
   ]
  }
 ],
 "metadata": {
  "kernelspec": {
   "display_name": "Python 3 (ipykernel)",
   "language": "python",
   "name": "python3"
  },
  "language_info": {
   "codemirror_mode": {
    "name": "ipython",
    "version": 3
   },
   "file_extension": ".py",
   "mimetype": "text/x-python",
   "name": "python",
   "nbconvert_exporter": "python",
   "pygments_lexer": "ipython3",
   "version": "3.9.13"
  }
 },
 "nbformat": 4,
 "nbformat_minor": 5
}
